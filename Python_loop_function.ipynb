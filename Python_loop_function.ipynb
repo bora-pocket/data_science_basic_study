{
  "nbformat": 4,
  "nbformat_minor": 0,
  "metadata": {
    "colab": {
      "name": "Python_제어문과함수.ipynb",
      "provenance": []
    },
    "kernelspec": {
      "name": "python3",
      "display_name": "Python 3"
    },
    "language_info": {
      "name": "python"
    }
  },
  "cells": [
    {
      "cell_type": "markdown",
      "source": [
        "## 조건문"
      ],
      "metadata": {
        "id": "kT5YUiCouB4Q"
      }
    },
    {
      "cell_type": "code",
      "execution_count": null,
      "metadata": {
        "colab": {
          "base_uri": "https://localhost:8080/"
        },
        "id": "alhamwzotzIb",
        "outputId": "256283dc-74de-47a3-fffe-1c70e959260a"
      },
      "outputs": [
        {
          "output_type": "stream",
          "name": "stdout",
          "text": [
            "please enter an integer0\n",
            "0\n"
          ]
        }
      ],
      "source": [
        "# if 문 : 숫자를 입력받아 양수/음수 여부 출력\n",
        "x = int(input(\"please enter an integer\"))\n",
        "if x > 0 :\n",
        "  print(\"양수\")\n",
        "elif x == 0 :\n",
        "  print(0)\n",
        "else :\n",
        "  print(\"음수\")"
      ]
    },
    {
      "cell_type": "markdown",
      "source": [
        "##반복문"
      ],
      "metadata": {
        "id": "SfiehjdgwSlH"
      }
    },
    {
      "cell_type": "code",
      "source": [
        "# for 문 : 리스트 안 값을 순회하며 반복문으로 출력\n",
        "words = [\"배추\", \"무\", \"토마토\", \"사과\"]\n",
        "for w in words :\n",
        "  print(w)"
      ],
      "metadata": {
        "colab": {
          "base_uri": "https://localhost:8080/"
        },
        "id": "mve9rE0YurR-",
        "outputId": "e4716d52-87c6-4a0f-9d55-8b46628dba3d"
      },
      "execution_count": null,
      "outputs": [
        {
          "output_type": "stream",
          "name": "stdout",
          "text": [
            "배추\n",
            "무\n",
            "토마토\n",
            "사과\n"
          ]
        }
      ]
    },
    {
      "cell_type": "code",
      "source": [
        "# range() 함수 : 지정 안 할시 0부터 시작\n",
        "list(range(5))"
      ],
      "metadata": {
        "colab": {
          "base_uri": "https://localhost:8080/"
        },
        "id": "D4AzchLkwirT",
        "outputId": "98d439ba-3d9f-4f9e-fa14-454c347d1666"
      },
      "execution_count": null,
      "outputs": [
        {
          "output_type": "execute_result",
          "data": {
            "text/plain": [
              "[0, 1, 2, 3, 4]"
            ]
          },
          "metadata": {},
          "execution_count": 7
        }
      ]
    },
    {
      "cell_type": "code",
      "source": [
        "list(range(1,6))"
      ],
      "metadata": {
        "colab": {
          "base_uri": "https://localhost:8080/"
        },
        "id": "8R-I9UmTw75B",
        "outputId": "52807180-0d65-46e1-feaf-8779fb7edfc0"
      },
      "execution_count": null,
      "outputs": [
        {
          "output_type": "execute_result",
          "data": {
            "text/plain": [
              "[1, 2, 3, 4, 5]"
            ]
          },
          "metadata": {},
          "execution_count": 9
        }
      ]
    },
    {
      "cell_type": "code",
      "source": [
        "for i in range(1,6) : \n",
        "  print(i)"
      ],
      "metadata": {
        "colab": {
          "base_uri": "https://localhost:8080/"
        },
        "id": "tA6rcaBexLEx",
        "outputId": "b193e512-1945-4aa3-e2f1-fc054c247014"
      },
      "execution_count": null,
      "outputs": [
        {
          "output_type": "stream",
          "name": "stdout",
          "text": [
            "1\n",
            "2\n",
            "3\n",
            "4\n",
            "5\n"
          ]
        }
      ]
    },
    {
      "cell_type": "code",
      "source": [
        "a = [\"Mary\", \"had\", \"a\", \"little\",\"lamb\"]\n",
        "len(a)"
      ],
      "metadata": {
        "colab": {
          "base_uri": "https://localhost:8080/"
        },
        "id": "q14FI-LTxgnh",
        "outputId": "03cc6a9d-c5cc-4d5c-afee-70f75e0798b7"
      },
      "execution_count": null,
      "outputs": [
        {
          "output_type": "execute_result",
          "data": {
            "text/plain": [
              "5"
            ]
          },
          "metadata": {},
          "execution_count": 13
        }
      ]
    },
    {
      "cell_type": "code",
      "source": [
        "for i in range(len(a)) :\n",
        "  print (i, a[i])"
      ],
      "metadata": {
        "colab": {
          "base_uri": "https://localhost:8080/"
        },
        "id": "_w2-irYlyBgx",
        "outputId": "8e96783c-e621-44b4-9869-d02355c80192"
      },
      "execution_count": null,
      "outputs": [
        {
          "output_type": "stream",
          "name": "stdout",
          "text": [
            "0 Mary\n",
            "1 had\n",
            "2 a\n",
            "3 little\n",
            "4 lamb\n"
          ]
        }
      ]
    },
    {
      "cell_type": "code",
      "source": [
        "for i, val in enumerate(a) : \n",
        "  print (i, val)"
      ],
      "metadata": {
        "colab": {
          "base_uri": "https://localhost:8080/"
        },
        "id": "gR--R2H2yRsO",
        "outputId": "31b0afcd-f327-46ee-ccac-2f8554d6e2c5"
      },
      "execution_count": null,
      "outputs": [
        {
          "output_type": "stream",
          "name": "stdout",
          "text": [
            "0 Mary\n",
            "1 had\n",
            "2 a\n",
            "3 little\n",
            "4 lamb\n"
          ]
        }
      ]
    },
    {
      "cell_type": "markdown",
      "source": [
        "##range응용"
      ],
      "metadata": {
        "id": "Qycq0lDdzFK2"
      }
    },
    {
      "cell_type": "code",
      "source": [
        "# 합계 구하기\n",
        "list(range(4))"
      ],
      "metadata": {
        "colab": {
          "base_uri": "https://localhost:8080/"
        },
        "id": "w2LetH51y-AC",
        "outputId": "1fa188d9-7541-417b-f179-e5954e9b1aa1"
      },
      "execution_count": null,
      "outputs": [
        {
          "output_type": "execute_result",
          "data": {
            "text/plain": [
              "[0, 1, 2, 3]"
            ]
          },
          "metadata": {},
          "execution_count": 18
        }
      ]
    },
    {
      "cell_type": "code",
      "source": [
        "sum(range(4))"
      ],
      "metadata": {
        "colab": {
          "base_uri": "https://localhost:8080/"
        },
        "id": "tEVGbCSpzMBB",
        "outputId": "fae6e428-2ca5-4efd-c442-c966fec133d5"
      },
      "execution_count": null,
      "outputs": [
        {
          "output_type": "execute_result",
          "data": {
            "text/plain": [
              "6"
            ]
          },
          "metadata": {},
          "execution_count": 19
        }
      ]
    },
    {
      "cell_type": "markdown",
      "source": [
        "## 조건문과 반복문 함께 사용하기"
      ],
      "metadata": {
        "id": "pYPa9mtkzxF4"
      }
    },
    {
      "cell_type": "code",
      "source": [
        "# range로 값을 순회하며 짝수는 \"짝수\" 홀수는 \"홀수\"를 출력\n",
        "for i in range(1,11):\n",
        "  if i%2 == 0 :\n",
        "    print(\"짝수\")\n",
        "  else :\n",
        "    print(\"홀수\")"
      ],
      "metadata": {
        "colab": {
          "base_uri": "https://localhost:8080/"
        },
        "id": "6iCJxYiKzOYB",
        "outputId": "83b4935a-8720-464f-b76b-7d879373d200"
      },
      "execution_count": null,
      "outputs": [
        {
          "output_type": "stream",
          "name": "stdout",
          "text": [
            "홀수\n",
            "짝수\n",
            "홀수\n",
            "짝수\n",
            "홀수\n",
            "짝수\n",
            "홀수\n",
            "짝수\n",
            "홀수\n",
            "짝수\n"
          ]
        }
      ]
    },
    {
      "cell_type": "markdown",
      "source": [
        "## While문"
      ],
      "metadata": {
        "id": "XR4YdJu81cQy"
      }
    },
    {
      "cell_type": "code",
      "source": [
        "# 변수의 초기값을 부여 후 특정 변수값이 되면 종료\n",
        "변수 = 0\n",
        "\n",
        "while True :\n",
        "  변수 += 1\n",
        "  print(변수)\n",
        "  if 변수 >= 10 :\n",
        "    break"
      ],
      "metadata": {
        "colab": {
          "base_uri": "https://localhost:8080/"
        },
        "id": "VPYQzLXk0-HC",
        "outputId": "833b7671-07f2-40b7-c15c-d3d725a8914c"
      },
      "execution_count": null,
      "outputs": [
        {
          "output_type": "stream",
          "name": "stdout",
          "text": [
            "1\n",
            "2\n",
            "3\n",
            "4\n",
            "5\n",
            "6\n",
            "7\n",
            "8\n",
            "9\n",
            "10\n"
          ]
        }
      ]
    },
    {
      "cell_type": "markdown",
      "source": [
        "## 함수"
      ],
      "metadata": {
        "id": "YG25Kk9P2fzU"
      }
    },
    {
      "cell_type": "code",
      "source": [
        "# 평균을 구하는 average 함수 만들기\n",
        "\n",
        "def average(data):\n",
        "  \"\"\"리스트 값을 받아 평균을 구하는 함수\"\"\"\n",
        "  avg = sum(data) / len(data)\n",
        "  return avg\n",
        "\n",
        "data = range(1,11)\n",
        "average(data)"
      ],
      "metadata": {
        "colab": {
          "base_uri": "https://localhost:8080/"
        },
        "id": "CCtnE0-u12KC",
        "outputId": "41d49065-ce17-4226-d31f-a89ac74e6926"
      },
      "execution_count": null,
      "outputs": [
        {
          "output_type": "execute_result",
          "data": {
            "text/plain": [
              "5.5"
            ]
          },
          "metadata": {},
          "execution_count": 45
        }
      ]
    },
    {
      "cell_type": "code",
      "source": [
        "# sum 함수를 for문으로 직접 구현\n",
        "\n",
        "def total_sum(num) :\n",
        "  total = 0 \n",
        "  for n in num : \n",
        "    total += n\n",
        "  return total\n",
        "\n",
        "num = range(1,11)\n",
        "total_sum(num)"
      ],
      "metadata": {
        "colab": {
          "base_uri": "https://localhost:8080/"
        },
        "id": "gKrhe5EJ2-MD",
        "outputId": "3b16b766-06d5-445a-a6cb-a34cb90cf200"
      },
      "execution_count": null,
      "outputs": [
        {
          "output_type": "execute_result",
          "data": {
            "text/plain": [
              "55"
            ]
          },
          "metadata": {},
          "execution_count": 29
        }
      ]
    },
    {
      "cell_type": "code",
      "source": [
        "average?"
      ],
      "metadata": {
        "id": "GOchy8LG9j6K"
      },
      "execution_count": null,
      "outputs": []
    },
    {
      "cell_type": "markdown",
      "source": [
        "## 예제 연습 (Dictionary)"
      ],
      "metadata": {
        "id": "8Vgj50dg5fcA"
      }
    },
    {
      "cell_type": "code",
      "source": [
        "# 아래 문자를 Dictionary형태로 변경 \n",
        "phone = \">경기 031 >강원 033 >충남 041 >충북 043 >경북 054 >경남 055 >전남 061 >전북 063\"\n",
        "\n",
        "# split() 사용하여 '>'를 기준으로 리스트로 변환\n",
        "phone_list = phone.split(\">\")\n",
        "phone_list\n",
        "\n",
        "# for문 이용하여 Dictionary에 넣기\n",
        "phone_dict = {}\n",
        "for p in phone_list:\n",
        "  p_split = p.split()\n",
        "  if len(p_split) > 0 :\n",
        "    key =  p_split[0]\n",
        "    value = p_split[1]\n",
        "    phone_dict[key] = value\n",
        "phone_dict"
      ],
      "metadata": {
        "colab": {
          "base_uri": "https://localhost:8080/"
        },
        "id": "ydHHCd-Q4R9X",
        "outputId": "f1f6c543-6f13-4a34-ac24-2d7eee591950"
      },
      "execution_count": null,
      "outputs": [
        {
          "output_type": "execute_result",
          "data": {
            "text/plain": [
              "{'강원': '033',\n",
              " '경기': '031',\n",
              " '경남': '055',\n",
              " '경북': '054',\n",
              " '전남': '061',\n",
              " '전북': '063',\n",
              " '충남': '041',\n",
              " '충북': '043'}"
            ]
          },
          "metadata": {},
          "execution_count": 40
        }
      ]
    },
    {
      "cell_type": "code",
      "source": [
        ""
      ],
      "metadata": {
        "id": "nNCNamsg6Spk"
      },
      "execution_count": null,
      "outputs": []
    }
  ]
}