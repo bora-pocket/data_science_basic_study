{
  "nbformat": 4,
  "nbformat_minor": 0,
  "metadata": {
    "colab": {
      "name": " Python_기본연산과자료형.ipynb",
      "provenance": []
    },
    "kernelspec": {
      "name": "python3",
      "display_name": "Python 3"
    },
    "language_info": {
      "name": "python"
    }
  },
  "cells": [
    {
      "cell_type": "code",
      "execution_count": null,
      "metadata": {
        "colab": {
          "base_uri": "https://localhost:8080/"
        },
        "id": "7ACguu2IJogD",
        "outputId": "3f4711a1-4b38-497e-b152-72dc0661f610"
      },
      "outputs": [
        {
          "output_type": "stream",
          "name": "stdout",
          "text": [
            "The Zen of Python, by Tim Peters\n",
            "\n",
            "Beautiful is better than ugly.\n",
            "Explicit is better than implicit.\n",
            "Simple is better than complex.\n",
            "Complex is better than complicated.\n",
            "Flat is better than nested.\n",
            "Sparse is better than dense.\n",
            "Readability counts.\n",
            "Special cases aren't special enough to break the rules.\n",
            "Although practicality beats purity.\n",
            "Errors should never pass silently.\n",
            "Unless explicitly silenced.\n",
            "In the face of ambiguity, refuse the temptation to guess.\n",
            "There should be one-- and preferably only one --obvious way to do it.\n",
            "Although that way may not be obvious at first unless you're Dutch.\n",
            "Now is better than never.\n",
            "Although never is often better than *right* now.\n",
            "If the implementation is hard to explain, it's a bad idea.\n",
            "If the implementation is easy to explain, it may be a good idea.\n",
            "Namespaces are one honking great idea -- let's do more of those!\n"
          ]
        }
      ],
      "source": [
        "# import this를 출력\n",
        "import this"
      ]
    },
    {
      "cell_type": "markdown",
      "source": [
        "##숫자"
      ],
      "metadata": {
        "id": "zA3thtTQKddW"
      }
    },
    {
      "cell_type": "code",
      "source": [
        "# 정수 1 출력\n",
        "1"
      ],
      "metadata": {
        "colab": {
          "base_uri": "https://localhost:8080/"
        },
        "id": "B6EK-V2YJ3Xa",
        "outputId": "6ed9eb78-09bc-4dff-abd2-7392ecb4d14b"
      },
      "execution_count": null,
      "outputs": [
        {
          "output_type": "execute_result",
          "data": {
            "text/plain": [
              "1"
            ]
          },
          "metadata": {},
          "execution_count": 15
        }
      ]
    },
    {
      "cell_type": "code",
      "source": [
        "# 실수 1 출력\n",
        "1.0"
      ],
      "metadata": {
        "colab": {
          "base_uri": "https://localhost:8080/"
        },
        "id": "CnEEQ7mXKMDm",
        "outputId": "2774d6c9-db2e-4dc7-892c-752f20f31288"
      },
      "execution_count": null,
      "outputs": [
        {
          "output_type": "execute_result",
          "data": {
            "text/plain": [
              "1.0"
            ]
          },
          "metadata": {},
          "execution_count": 16
        }
      ]
    },
    {
      "cell_type": "code",
      "source": [
        "# 정수 1의 type\n",
        "type(1)"
      ],
      "metadata": {
        "colab": {
          "base_uri": "https://localhost:8080/"
        },
        "id": "9SbFrOq6KPvW",
        "outputId": "c42a2b84-ea69-442d-bb62-9e83dea14dd6"
      },
      "execution_count": null,
      "outputs": [
        {
          "output_type": "execute_result",
          "data": {
            "text/plain": [
              "int"
            ]
          },
          "metadata": {},
          "execution_count": 17
        }
      ]
    },
    {
      "cell_type": "code",
      "source": [
        "# 실수 1의 type\n",
        "type(1.0)"
      ],
      "metadata": {
        "colab": {
          "base_uri": "https://localhost:8080/"
        },
        "id": "uT3_mVZrKTGu",
        "outputId": "34a81a7e-a2a2-438f-9fdd-416dbc9eafd4"
      },
      "execution_count": null,
      "outputs": [
        {
          "output_type": "execute_result",
          "data": {
            "text/plain": [
              "float"
            ]
          },
          "metadata": {},
          "execution_count": 18
        }
      ]
    },
    {
      "cell_type": "markdown",
      "source": [
        "## 사칙연산"
      ],
      "metadata": {
        "id": "qUxMBuq3LcxF"
      }
    },
    {
      "cell_type": "code",
      "source": [
        "print(1+1, 3-2, 3*2, 3/2)"
      ],
      "metadata": {
        "colab": {
          "base_uri": "https://localhost:8080/"
        },
        "id": "BsLNMxvyKVBW",
        "outputId": "38b626d5-deff-4059-c78b-7150563ff3ad"
      },
      "execution_count": null,
      "outputs": [
        {
          "output_type": "stream",
          "name": "stdout",
          "text": [
            "2 1 6 1.5\n"
          ]
        }
      ]
    },
    {
      "cell_type": "code",
      "source": [
        "print(5//2, 3%2)"
      ],
      "metadata": {
        "colab": {
          "base_uri": "https://localhost:8080/"
        },
        "id": "BX7F1S7iLAZ0",
        "outputId": "3845642c-59e4-47fa-ce83-0ad6a73abd49"
      },
      "execution_count": null,
      "outputs": [
        {
          "output_type": "stream",
          "name": "stdout",
          "text": [
            "2 1\n"
          ]
        }
      ]
    },
    {
      "cell_type": "markdown",
      "source": [
        "##  변수를 이용한 응용"
      ],
      "metadata": {
        "id": "6_dvmJcFMFZn"
      }
    },
    {
      "cell_type": "code",
      "source": [
        "width = 30\n",
        "height = 10\n",
        "width*height"
      ],
      "metadata": {
        "colab": {
          "base_uri": "https://localhost:8080/"
        },
        "id": "6Wi2gd6yLXdH",
        "outputId": "27152a60-8b97-452b-c9bb-6c16d814ffc5"
      },
      "execution_count": null,
      "outputs": [
        {
          "output_type": "execute_result",
          "data": {
            "text/plain": [
              "300"
            ]
          },
          "metadata": {},
          "execution_count": 10
        }
      ]
    },
    {
      "cell_type": "markdown",
      "source": [
        "##문자열"
      ],
      "metadata": {
        "id": "-SuIuQG_MzKo"
      }
    },
    {
      "cell_type": "code",
      "source": [
        "# 큰따옴표와 작은 따옴표를 둘 다 허용하는 이유 : 안에 문자열로 쓰일 작은 따옴표를 쓰는 경우를 위해\n",
        "print(\"python's\")\n",
        "\n",
        "# 작은 따옴표 안에 str인 작은 따옴표를 사용하는 경우 : \\ 를 str로 인식할 문자 앞에 붙여 인식시켜줌.\n",
        "print('python\\'s')"
      ],
      "metadata": {
        "colab": {
          "base_uri": "https://localhost:8080/"
        },
        "id": "J1QQwgpRMSWn",
        "outputId": "7fb4ada3-4b2e-4d01-8cb3-cd15c6ac63e6"
      },
      "execution_count": null,
      "outputs": [
        {
          "output_type": "stream",
          "name": "stdout",
          "text": [
            "python's\n",
            "python's\n"
          ]
        }
      ]
    },
    {
      "cell_type": "code",
      "source": [
        "# 줄바꿈 표현\n",
        "\"\"\" \n",
        "줄바꿈\n",
        "문자를\n",
        "표현합니다.\n",
        "\"\"\""
      ],
      "metadata": {
        "colab": {
          "base_uri": "https://localhost:8080/",
          "height": 35
        },
        "id": "J5Ws0xcaNwQz",
        "outputId": "3590013c-7209-46e9-e814-dcd3dfdb9f69"
      },
      "execution_count": null,
      "outputs": [
        {
          "output_type": "execute_result",
          "data": {
            "application/vnd.google.colaboratory.intrinsic+json": {
              "type": "string"
            },
            "text/plain": [
              "' \\n줄바꿈\\n문자를\\n표현합니다.\\n'"
            ]
          },
          "metadata": {},
          "execution_count": 22
        }
      ]
    },
    {
      "cell_type": "code",
      "source": [
        "# *로 문자를 반복 출력합니다.\n",
        "\"-\"*50"
      ],
      "metadata": {
        "colab": {
          "base_uri": "https://localhost:8080/",
          "height": 35
        },
        "id": "o3gkZtH7Op2G",
        "outputId": "f500ad0a-81d1-460c-bb50-e77c8621358e"
      },
      "execution_count": null,
      "outputs": [
        {
          "output_type": "execute_result",
          "data": {
            "application/vnd.google.colaboratory.intrinsic+json": {
              "type": "string"
            },
            "text/plain": [
              "'--------------------------------------------------'"
            ]
          },
          "metadata": {},
          "execution_count": 23
        }
      ]
    },
    {
      "cell_type": "markdown",
      "source": [
        "## 문자열 인덱스"
      ],
      "metadata": {
        "id": "9JNZujzRPLvF"
      }
    },
    {
      "cell_type": "code",
      "source": [
        "# 변수에 담긴 문자열의 위치를 알아봅니다. 0부터 시작\n",
        "word = \"Python's hobby?\"\n",
        "word"
      ],
      "metadata": {
        "colab": {
          "base_uri": "https://localhost:8080/",
          "height": 35
        },
        "id": "-yCAaTmCO7oX",
        "outputId": "56d96e76-5c6b-43ea-ac81-c788941d2f90"
      },
      "execution_count": null,
      "outputs": [
        {
          "output_type": "execute_result",
          "data": {
            "application/vnd.google.colaboratory.intrinsic+json": {
              "type": "string"
            },
            "text/plain": [
              "\"Python's hobby?\""
            ]
          },
          "metadata": {},
          "execution_count": 24
        }
      ]
    },
    {
      "cell_type": "code",
      "source": [
        "# 5번 인덱스의 원소\n",
        "word[5]"
      ],
      "metadata": {
        "colab": {
          "base_uri": "https://localhost:8080/",
          "height": 35
        },
        "id": "DJzxxQvzPWOX",
        "outputId": "4feedc62-c1f0-4032-9dc9-e7807ee2f5e8"
      },
      "execution_count": null,
      "outputs": [
        {
          "output_type": "execute_result",
          "data": {
            "application/vnd.google.colaboratory.intrinsic+json": {
              "type": "string"
            },
            "text/plain": [
              "'n'"
            ]
          },
          "metadata": {},
          "execution_count": 25
        }
      ]
    },
    {
      "cell_type": "code",
      "source": [
        "# 마지막 인덱스의 원소 : -1, -2 등으로 뒤에서부터 세는 방법도 있음.\n",
        "word[-1]"
      ],
      "metadata": {
        "colab": {
          "base_uri": "https://localhost:8080/",
          "height": 35
        },
        "id": "3x3RCYHAP-59",
        "outputId": "913fa1c9-ad75-4c77-b389-1dfa4a49d9ea"
      },
      "execution_count": null,
      "outputs": [
        {
          "output_type": "execute_result",
          "data": {
            "application/vnd.google.colaboratory.intrinsic+json": {
              "type": "string"
            },
            "text/plain": [
              "'?'"
            ]
          },
          "metadata": {},
          "execution_count": 26
        }
      ]
    },
    {
      "cell_type": "markdown",
      "source": [
        "##문자열 슬라이싱"
      ],
      "metadata": {
        "id": "v8e8s35tP3Fd"
      }
    },
    {
      "cell_type": "code",
      "source": [
        "#[시작인덱스: 끝나는 인덱스+1]\n",
        "\n",
        "# 0 인덱스 ~ 5번 인덱스까지 \n",
        "word[:6]"
      ],
      "metadata": {
        "colab": {
          "base_uri": "https://localhost:8080/",
          "height": 35
        },
        "id": "heBxKK8iPu13",
        "outputId": "e118616a-99ee-4502-9486-c7be7638b3d9"
      },
      "execution_count": null,
      "outputs": [
        {
          "output_type": "execute_result",
          "data": {
            "application/vnd.google.colaboratory.intrinsic+json": {
              "type": "string"
            },
            "text/plain": [
              "'Python'"
            ]
          },
          "metadata": {},
          "execution_count": 31
        }
      ]
    },
    {
      "cell_type": "code",
      "source": [
        "# 뒤에서 6개만 가져오기\n",
        "\n",
        "#-6 인덱스 ~ 끝까지\n",
        "word[-6:]"
      ],
      "metadata": {
        "colab": {
          "base_uri": "https://localhost:8080/",
          "height": 35
        },
        "id": "bEQQ8K6uQy6T",
        "outputId": "1370eb6a-78e1-4a9e-b451-ccb3434e7bdc"
      },
      "execution_count": null,
      "outputs": [
        {
          "output_type": "execute_result",
          "data": {
            "application/vnd.google.colaboratory.intrinsic+json": {
              "type": "string"
            },
            "text/plain": [
              "'hobby?'"
            ]
          },
          "metadata": {},
          "execution_count": 28
        }
      ]
    },
    {
      "cell_type": "code",
      "source": [
        "# 2번 인덱스부터 4글자만 가져오기\n",
        "word[2:6]"
      ],
      "metadata": {
        "colab": {
          "base_uri": "https://localhost:8080/",
          "height": 35
        },
        "id": "oHff_aywQ7kI",
        "outputId": "08f1a581-19ca-481b-e0f0-06bb551feae6"
      },
      "execution_count": null,
      "outputs": [
        {
          "output_type": "execute_result",
          "data": {
            "application/vnd.google.colaboratory.intrinsic+json": {
              "type": "string"
            },
            "text/plain": [
              "'thon'"
            ]
          },
          "metadata": {},
          "execution_count": 30
        }
      ]
    },
    {
      "cell_type": "markdown",
      "source": [
        "## 문자열 함수"
      ],
      "metadata": {
        "id": "EbKJK7HnR9IX"
      }
    },
    {
      "cell_type": "code",
      "source": [
        "word.lower()"
      ],
      "metadata": {
        "colab": {
          "base_uri": "https://localhost:8080/",
          "height": 35
        },
        "id": "KU_wQv2rRPs4",
        "outputId": "d3862bef-4999-4b5c-8018-d51d7ea7ef02"
      },
      "execution_count": null,
      "outputs": [
        {
          "output_type": "execute_result",
          "data": {
            "application/vnd.google.colaboratory.intrinsic+json": {
              "type": "string"
            },
            "text/plain": [
              "\"python's hobby?\""
            ]
          },
          "metadata": {},
          "execution_count": 33
        }
      ]
    },
    {
      "cell_type": "code",
      "source": [
        "word.upper()"
      ],
      "metadata": {
        "colab": {
          "base_uri": "https://localhost:8080/",
          "height": 35
        },
        "id": "1kfaA2CbSemJ",
        "outputId": "7561b47f-7e51-4a3f-fde9-83d86413c749"
      },
      "execution_count": null,
      "outputs": [
        {
          "output_type": "execute_result",
          "data": {
            "application/vnd.google.colaboratory.intrinsic+json": {
              "type": "string"
            },
            "text/plain": [
              "\"PYTHON'S HOBBY?\""
            ]
          },
          "metadata": {},
          "execution_count": 34
        }
      ]
    },
    {
      "cell_type": "markdown",
      "source": [
        "## List"
      ],
      "metadata": {
        "id": "GOp5_Wz2SmUw"
      }
    },
    {
      "cell_type": "code",
      "source": [
        "# 리스트 생성\n",
        "squares = [1, 3, 5, 8, 10, 23]\n",
        "squares"
      ],
      "metadata": {
        "colab": {
          "base_uri": "https://localhost:8080/"
        },
        "id": "Rb5r50WjShsY",
        "outputId": "2f0355ed-a046-4378-e71a-03b4f4fadd76"
      },
      "execution_count": null,
      "outputs": [
        {
          "output_type": "execute_result",
          "data": {
            "text/plain": [
              "[1, 3, 5, 8, 10, 23]"
            ]
          },
          "metadata": {},
          "execution_count": 35
        }
      ]
    },
    {
      "cell_type": "code",
      "source": [
        "type([])"
      ],
      "metadata": {
        "colab": {
          "base_uri": "https://localhost:8080/"
        },
        "id": "RCKoxNlXS6vI",
        "outputId": "e1ff43bd-fdec-4206-f64b-b36e5cf83fcb"
      },
      "execution_count": null,
      "outputs": [
        {
          "output_type": "execute_result",
          "data": {
            "text/plain": [
              "list"
            ]
          },
          "metadata": {},
          "execution_count": 36
        }
      ]
    },
    {
      "cell_type": "markdown",
      "source": [
        "## 리스트 인덱싱"
      ],
      "metadata": {
        "id": "xGjbdOxNTZrK"
      }
    },
    {
      "cell_type": "code",
      "source": [
        "squares[0]"
      ],
      "metadata": {
        "colab": {
          "base_uri": "https://localhost:8080/"
        },
        "id": "t_584FuoS9L5",
        "outputId": "651f777d-ae01-4548-dcab-633baf361a8b"
      },
      "execution_count": null,
      "outputs": [
        {
          "output_type": "execute_result",
          "data": {
            "text/plain": [
              "1"
            ]
          },
          "metadata": {},
          "execution_count": 39
        }
      ]
    },
    {
      "cell_type": "code",
      "source": [
        "squares[-1]"
      ],
      "metadata": {
        "colab": {
          "base_uri": "https://localhost:8080/"
        },
        "id": "Bq08zzFWTSL4",
        "outputId": "171ad163-9f03-4879-8c0b-e1104fcfb2b0"
      },
      "execution_count": null,
      "outputs": [
        {
          "output_type": "execute_result",
          "data": {
            "text/plain": [
              "23"
            ]
          },
          "metadata": {},
          "execution_count": 38
        }
      ]
    },
    {
      "cell_type": "code",
      "source": [
        "squares[-3]"
      ],
      "metadata": {
        "colab": {
          "base_uri": "https://localhost:8080/"
        },
        "id": "o_SOEKICTTnI",
        "outputId": "35ecbeee-4f5a-4afa-c68c-6609860103b4"
      },
      "execution_count": null,
      "outputs": [
        {
          "output_type": "execute_result",
          "data": {
            "text/plain": [
              "8"
            ]
          },
          "metadata": {},
          "execution_count": 40
        }
      ]
    },
    {
      "cell_type": "markdown",
      "source": [
        "##리스트 슬라이싱"
      ],
      "metadata": {
        "id": "MCOFMCrHTl-X"
      }
    },
    {
      "cell_type": "code",
      "source": [
        "squares[:3]"
      ],
      "metadata": {
        "colab": {
          "base_uri": "https://localhost:8080/"
        },
        "id": "JxxAy8z4TXno",
        "outputId": "4067822a-3943-41c6-ab89-d345467316fb"
      },
      "execution_count": null,
      "outputs": [
        {
          "output_type": "execute_result",
          "data": {
            "text/plain": [
              "[1, 3, 5]"
            ]
          },
          "metadata": {},
          "execution_count": 41
        }
      ]
    },
    {
      "cell_type": "code",
      "source": [
        "squares[-3:]"
      ],
      "metadata": {
        "colab": {
          "base_uri": "https://localhost:8080/"
        },
        "id": "CDV1p0YOTsQJ",
        "outputId": "7ec65db0-fb2c-4c57-f1b5-21b6258a4ca2"
      },
      "execution_count": null,
      "outputs": [
        {
          "output_type": "execute_result",
          "data": {
            "text/plain": [
              "[8, 10, 23]"
            ]
          },
          "metadata": {},
          "execution_count": 42
        }
      ]
    },
    {
      "cell_type": "markdown",
      "source": [
        "## 리스트 함수"
      ],
      "metadata": {
        "id": "tZPlkmMIUJw9"
      }
    },
    {
      "cell_type": "code",
      "source": [
        "squares.append(33)\n",
        "squares"
      ],
      "metadata": {
        "colab": {
          "base_uri": "https://localhost:8080/"
        },
        "id": "uM2OWpQXTxkI",
        "outputId": "1db38404-5dd3-4589-a54e-341fa8338a5e"
      },
      "execution_count": null,
      "outputs": [
        {
          "output_type": "execute_result",
          "data": {
            "text/plain": [
              "[1, 3, 5, 8, 10, 23, 33]"
            ]
          },
          "metadata": {},
          "execution_count": 43
        }
      ]
    },
    {
      "cell_type": "code",
      "source": [
        "squares.remove(33)\n",
        "squares"
      ],
      "metadata": {
        "colab": {
          "base_uri": "https://localhost:8080/"
        },
        "id": "K7hMctE5UPYY",
        "outputId": "86ba9de7-a84c-4711-92aa-5bee20a38208"
      },
      "execution_count": null,
      "outputs": [
        {
          "output_type": "execute_result",
          "data": {
            "text/plain": [
              "[1, 3, 5, 8, 10, 23]"
            ]
          },
          "metadata": {},
          "execution_count": 44
        }
      ]
    },
    {
      "cell_type": "markdown",
      "source": [
        "##Dictionary"
      ],
      "metadata": {
        "id": "o_I680UpUnC6"
      }
    },
    {
      "cell_type": "code",
      "source": [
        "# { 키, 값 }\n",
        "\n",
        "재고 = {\"감자\": 4123, \"고구마\": 4430, \"쪽파\": 100 }\n",
        "재고"
      ],
      "metadata": {
        "id": "i4DIvLpIUYBI",
        "colab": {
          "base_uri": "https://localhost:8080/"
        },
        "outputId": "4099ceb4-ccf4-495d-b61a-88a838203c8c"
      },
      "execution_count": null,
      "outputs": [
        {
          "output_type": "execute_result",
          "data": {
            "text/plain": [
              "{'감자': 4123, '고구마': 4430, '쪽파': 100}"
            ]
          },
          "metadata": {},
          "execution_count": 1
        }
      ]
    },
    {
      "cell_type": "code",
      "source": [
        "# 재고에 대파 추가\n",
        "재고[\"대파\"] = 203\n",
        "재고"
      ],
      "metadata": {
        "colab": {
          "base_uri": "https://localhost:8080/"
        },
        "id": "52TIFjvBrNpR",
        "outputId": "8c403a66-b5cf-44c8-9cce-c4cea6110876"
      },
      "execution_count": null,
      "outputs": [
        {
          "output_type": "execute_result",
          "data": {
            "text/plain": [
              "{'감자': 4123, '고구마': 4430, '대파': 203, '쪽파': 100}"
            ]
          },
          "metadata": {},
          "execution_count": 2
        }
      ]
    },
    {
      "cell_type": "code",
      "source": [
        "# 재고에 양파 추가\n",
        "재고[\"양파\"] = 345\n",
        "재고"
      ],
      "metadata": {
        "colab": {
          "base_uri": "https://localhost:8080/"
        },
        "id": "2lGx4GIbrWTr",
        "outputId": "936689dd-de89-45fc-f220-e2253834068f"
      },
      "execution_count": null,
      "outputs": [
        {
          "output_type": "execute_result",
          "data": {
            "text/plain": [
              "{'감자': 4123, '고구마': 4430, '대파': 203, '양파': 345, '쪽파': 100}"
            ]
          },
          "metadata": {},
          "execution_count": 3
        }
      ]
    },
    {
      "cell_type": "code",
      "source": [
        "del 재고[\"양파\"]\n",
        "재고"
      ],
      "metadata": {
        "colab": {
          "base_uri": "https://localhost:8080/"
        },
        "id": "cvRPbDZ7rwYp",
        "outputId": "3139a095-c5e6-4f20-c161-f3c3e7a21043"
      },
      "execution_count": null,
      "outputs": [
        {
          "output_type": "execute_result",
          "data": {
            "text/plain": [
              "{'감자': 4123, '고구마': 4430, '대파': 203, '쪽파': 100}"
            ]
          },
          "metadata": {},
          "execution_count": 4
        }
      ]
    },
    {
      "cell_type": "code",
      "source": [
        "# list화\n",
        "list(재고)"
      ],
      "metadata": {
        "colab": {
          "base_uri": "https://localhost:8080/"
        },
        "id": "Us_sFkgjr_ak",
        "outputId": "d984dfa9-9772-4a08-a18f-fe3f77da64c0"
      },
      "execution_count": null,
      "outputs": [
        {
          "output_type": "execute_result",
          "data": {
            "text/plain": [
              "['감자', '고구마', '쪽파', '대파']"
            ]
          },
          "metadata": {},
          "execution_count": 5
        }
      ]
    },
    {
      "cell_type": "code",
      "source": [
        "# 딕셔너리 키의 값을 기준으로 정렬\n",
        "sorted(재고)"
      ],
      "metadata": {
        "colab": {
          "base_uri": "https://localhost:8080/"
        },
        "id": "pBjnb_bKsgMA",
        "outputId": "e626ed99-95d9-4426-81b1-b7650dc87edf"
      },
      "execution_count": null,
      "outputs": [
        {
          "output_type": "execute_result",
          "data": {
            "text/plain": [
              "['감자', '고구마', '대파', '쪽파']"
            ]
          },
          "metadata": {},
          "execution_count": 6
        }
      ]
    },
    {
      "cell_type": "code",
      "source": [
        "# Dictionary 함수\n",
        "재고.keys()"
      ],
      "metadata": {
        "colab": {
          "base_uri": "https://localhost:8080/"
        },
        "id": "-_8bsQn3smjn",
        "outputId": "f4aaef1b-58f7-47f9-8a09-ba4bc5896d63"
      },
      "execution_count": null,
      "outputs": [
        {
          "output_type": "execute_result",
          "data": {
            "text/plain": [
              "dict_keys(['감자', '고구마', '쪽파', '대파'])"
            ]
          },
          "metadata": {},
          "execution_count": 7
        }
      ]
    },
    {
      "cell_type": "code",
      "source": [
        "재고.values()"
      ],
      "metadata": {
        "colab": {
          "base_uri": "https://localhost:8080/"
        },
        "id": "nBiIbyQftF-w",
        "outputId": "cf51da3a-23e8-4f0f-d71d-22685be74c53"
      },
      "execution_count": null,
      "outputs": [
        {
          "output_type": "execute_result",
          "data": {
            "text/plain": [
              "dict_values([4123, 4430, 100, 203])"
            ]
          },
          "metadata": {},
          "execution_count": 8
        }
      ]
    },
    {
      "cell_type": "code",
      "source": [
        ""
      ],
      "metadata": {
        "id": "jzHEEbw2tIOw"
      },
      "execution_count": null,
      "outputs": []
    }
  ]
}