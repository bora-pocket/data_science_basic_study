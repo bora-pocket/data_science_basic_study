{
  "nbformat": 4,
  "nbformat_minor": 0,
  "metadata": {
    "colab": {
      "name": "데이터예측.ipynb",
      "provenance": []
    },
    "kernelspec": {
      "name": "python3",
      "display_name": "Python 3"
    },
    "language_info": {
      "name": "python"
    }
  },
  "cells": [
    {
      "cell_type": "markdown",
      "source": [
        ""
      ],
      "metadata": {
        "id": "VI94rzYSP7ZM"
      }
    },
    {
      "cell_type": "markdown",
      "source": [
        "## 라이브러리 로드\n",
        "참고 : https://www.tensorflow.org/tutorials/keras/regression?hl=ko"
      ],
      "metadata": {
        "id": "AAG5QhTgJdtX"
      }
    },
    {
      "cell_type": "code",
      "execution_count": 1,
      "metadata": {
        "id": "t3F78s8gANmE"
      },
      "outputs": [],
      "source": [
        "import pandas as pd\n",
        "import seaborn as sns"
      ]
    },
    {
      "cell_type": "code",
      "source": [
        "df = sns.load_dataset(\"mpg\")\n",
        "df.shape"
      ],
      "metadata": {
        "colab": {
          "base_uri": "https://localhost:8080/"
        },
        "id": "f6Erw4Z2Khr0",
        "outputId": "7016cef4-0c81-4be0-c2cd-300ceaa53740"
      },
      "execution_count": 2,
      "outputs": [
        {
          "output_type": "execute_result",
          "data": {
            "text/plain": [
              "(398, 9)"
            ]
          },
          "metadata": {},
          "execution_count": 2
        }
      ]
    },
    {
      "cell_type": "markdown",
      "source": [
        "## 결측치 확인"
      ],
      "metadata": {
        "id": "c18tOPS2KqNB"
      }
    },
    {
      "cell_type": "code",
      "source": [
        "# 결측치 합계\n",
        "df.isnull().sum()"
      ],
      "metadata": {
        "colab": {
          "base_uri": "https://localhost:8080/"
        },
        "id": "7NU6JECPKp1p",
        "outputId": "a05c8044-9ec6-442d-a25f-c10bb1accfbb"
      },
      "execution_count": 3,
      "outputs": [
        {
          "output_type": "execute_result",
          "data": {
            "text/plain": [
              "mpg             0\n",
              "cylinders       0\n",
              "displacement    0\n",
              "horsepower      6\n",
              "weight          0\n",
              "acceleration    0\n",
              "model_year      0\n",
              "origin          0\n",
              "name            0\n",
              "dtype: int64"
            ]
          },
          "metadata": {},
          "execution_count": 3
        }
      ]
    },
    {
      "cell_type": "markdown",
      "source": [
        "## 결측치 제거"
      ],
      "metadata": {
        "id": "G0L9-CmdKxbB"
      }
    },
    {
      "cell_type": "code",
      "source": [
        "# dropna로 결측치 제거\n",
        "df = df.dropna()\n",
        "df.shape"
      ],
      "metadata": {
        "colab": {
          "base_uri": "https://localhost:8080/"
        },
        "id": "iBbXwPgrKlgz",
        "outputId": "7cbddad5-265f-4ae6-a62f-f4b3fd90103d"
      },
      "execution_count": 4,
      "outputs": [
        {
          "output_type": "execute_result",
          "data": {
            "text/plain": [
              "(392, 9)"
            ]
          },
          "metadata": {},
          "execution_count": 4
        }
      ]
    },
    {
      "cell_type": "markdown",
      "source": [
        "## 수치데이터만 가져오기"
      ],
      "metadata": {
        "id": "ZbNL1AzZLKdV"
      }
    },
    {
      "cell_type": "code",
      "source": [
        "# select_dtypes를 통해 object타입을 제외(exclude)하고 가져옴\n",
        "# object type column : 2개\n",
        "df = df.select_dtypes(exclude=\"object\")\n",
        "df.shape"
      ],
      "metadata": {
        "colab": {
          "base_uri": "https://localhost:8080/"
        },
        "id": "wXBLTZ2zLA9z",
        "outputId": "4190b3e4-d9ad-420c-c801-48fa163176f4"
      },
      "execution_count": 5,
      "outputs": [
        {
          "output_type": "execute_result",
          "data": {
            "text/plain": [
              "(392, 7)"
            ]
          },
          "metadata": {},
          "execution_count": 5
        }
      ]
    },
    {
      "cell_type": "markdown",
      "source": [
        "## 전체데이터의 기술 통계 확인"
      ],
      "metadata": {
        "id": "N3SN5LwyM6Yt"
      }
    },
    {
      "cell_type": "code",
      "source": [
        "#  describe 이용하여 전체 기술 통계 가져오기 \n",
        "df.describe(include=\"all\")"
      ],
      "metadata": {
        "colab": {
          "base_uri": "https://localhost:8080/",
          "height": 300
        },
        "id": "4yvDu6peMeow",
        "outputId": "5b6ee171-549b-4505-c6be-dcfec6aad280"
      },
      "execution_count": 6,
      "outputs": [
        {
          "output_type": "execute_result",
          "data": {
            "text/html": [
              "\n",
              "  <div id=\"df-fefc43ab-8f05-44f6-a0bd-8fcfd2ea10a0\">\n",
              "    <div class=\"colab-df-container\">\n",
              "      <div>\n",
              "<style scoped>\n",
              "    .dataframe tbody tr th:only-of-type {\n",
              "        vertical-align: middle;\n",
              "    }\n",
              "\n",
              "    .dataframe tbody tr th {\n",
              "        vertical-align: top;\n",
              "    }\n",
              "\n",
              "    .dataframe thead th {\n",
              "        text-align: right;\n",
              "    }\n",
              "</style>\n",
              "<table border=\"1\" class=\"dataframe\">\n",
              "  <thead>\n",
              "    <tr style=\"text-align: right;\">\n",
              "      <th></th>\n",
              "      <th>mpg</th>\n",
              "      <th>cylinders</th>\n",
              "      <th>displacement</th>\n",
              "      <th>horsepower</th>\n",
              "      <th>weight</th>\n",
              "      <th>acceleration</th>\n",
              "      <th>model_year</th>\n",
              "    </tr>\n",
              "  </thead>\n",
              "  <tbody>\n",
              "    <tr>\n",
              "      <th>count</th>\n",
              "      <td>392.000000</td>\n",
              "      <td>392.000000</td>\n",
              "      <td>392.000000</td>\n",
              "      <td>392.000000</td>\n",
              "      <td>392.000000</td>\n",
              "      <td>392.000000</td>\n",
              "      <td>392.000000</td>\n",
              "    </tr>\n",
              "    <tr>\n",
              "      <th>mean</th>\n",
              "      <td>23.445918</td>\n",
              "      <td>5.471939</td>\n",
              "      <td>194.411990</td>\n",
              "      <td>104.469388</td>\n",
              "      <td>2977.584184</td>\n",
              "      <td>15.541327</td>\n",
              "      <td>75.979592</td>\n",
              "    </tr>\n",
              "    <tr>\n",
              "      <th>std</th>\n",
              "      <td>7.805007</td>\n",
              "      <td>1.705783</td>\n",
              "      <td>104.644004</td>\n",
              "      <td>38.491160</td>\n",
              "      <td>849.402560</td>\n",
              "      <td>2.758864</td>\n",
              "      <td>3.683737</td>\n",
              "    </tr>\n",
              "    <tr>\n",
              "      <th>min</th>\n",
              "      <td>9.000000</td>\n",
              "      <td>3.000000</td>\n",
              "      <td>68.000000</td>\n",
              "      <td>46.000000</td>\n",
              "      <td>1613.000000</td>\n",
              "      <td>8.000000</td>\n",
              "      <td>70.000000</td>\n",
              "    </tr>\n",
              "    <tr>\n",
              "      <th>25%</th>\n",
              "      <td>17.000000</td>\n",
              "      <td>4.000000</td>\n",
              "      <td>105.000000</td>\n",
              "      <td>75.000000</td>\n",
              "      <td>2225.250000</td>\n",
              "      <td>13.775000</td>\n",
              "      <td>73.000000</td>\n",
              "    </tr>\n",
              "    <tr>\n",
              "      <th>50%</th>\n",
              "      <td>22.750000</td>\n",
              "      <td>4.000000</td>\n",
              "      <td>151.000000</td>\n",
              "      <td>93.500000</td>\n",
              "      <td>2803.500000</td>\n",
              "      <td>15.500000</td>\n",
              "      <td>76.000000</td>\n",
              "    </tr>\n",
              "    <tr>\n",
              "      <th>75%</th>\n",
              "      <td>29.000000</td>\n",
              "      <td>8.000000</td>\n",
              "      <td>275.750000</td>\n",
              "      <td>126.000000</td>\n",
              "      <td>3614.750000</td>\n",
              "      <td>17.025000</td>\n",
              "      <td>79.000000</td>\n",
              "    </tr>\n",
              "    <tr>\n",
              "      <th>max</th>\n",
              "      <td>46.600000</td>\n",
              "      <td>8.000000</td>\n",
              "      <td>455.000000</td>\n",
              "      <td>230.000000</td>\n",
              "      <td>5140.000000</td>\n",
              "      <td>24.800000</td>\n",
              "      <td>82.000000</td>\n",
              "    </tr>\n",
              "  </tbody>\n",
              "</table>\n",
              "</div>\n",
              "      <button class=\"colab-df-convert\" onclick=\"convertToInteractive('df-fefc43ab-8f05-44f6-a0bd-8fcfd2ea10a0')\"\n",
              "              title=\"Convert this dataframe to an interactive table.\"\n",
              "              style=\"display:none;\">\n",
              "        \n",
              "  <svg xmlns=\"http://www.w3.org/2000/svg\" height=\"24px\"viewBox=\"0 0 24 24\"\n",
              "       width=\"24px\">\n",
              "    <path d=\"M0 0h24v24H0V0z\" fill=\"none\"/>\n",
              "    <path d=\"M18.56 5.44l.94 2.06.94-2.06 2.06-.94-2.06-.94-.94-2.06-.94 2.06-2.06.94zm-11 1L8.5 8.5l.94-2.06 2.06-.94-2.06-.94L8.5 2.5l-.94 2.06-2.06.94zm10 10l.94 2.06.94-2.06 2.06-.94-2.06-.94-.94-2.06-.94 2.06-2.06.94z\"/><path d=\"M17.41 7.96l-1.37-1.37c-.4-.4-.92-.59-1.43-.59-.52 0-1.04.2-1.43.59L10.3 9.45l-7.72 7.72c-.78.78-.78 2.05 0 2.83L4 21.41c.39.39.9.59 1.41.59.51 0 1.02-.2 1.41-.59l7.78-7.78 2.81-2.81c.8-.78.8-2.07 0-2.86zM5.41 20L4 18.59l7.72-7.72 1.47 1.35L5.41 20z\"/>\n",
              "  </svg>\n",
              "      </button>\n",
              "      \n",
              "  <style>\n",
              "    .colab-df-container {\n",
              "      display:flex;\n",
              "      flex-wrap:wrap;\n",
              "      gap: 12px;\n",
              "    }\n",
              "\n",
              "    .colab-df-convert {\n",
              "      background-color: #E8F0FE;\n",
              "      border: none;\n",
              "      border-radius: 50%;\n",
              "      cursor: pointer;\n",
              "      display: none;\n",
              "      fill: #1967D2;\n",
              "      height: 32px;\n",
              "      padding: 0 0 0 0;\n",
              "      width: 32px;\n",
              "    }\n",
              "\n",
              "    .colab-df-convert:hover {\n",
              "      background-color: #E2EBFA;\n",
              "      box-shadow: 0px 1px 2px rgba(60, 64, 67, 0.3), 0px 1px 3px 1px rgba(60, 64, 67, 0.15);\n",
              "      fill: #174EA6;\n",
              "    }\n",
              "\n",
              "    [theme=dark] .colab-df-convert {\n",
              "      background-color: #3B4455;\n",
              "      fill: #D2E3FC;\n",
              "    }\n",
              "\n",
              "    [theme=dark] .colab-df-convert:hover {\n",
              "      background-color: #434B5C;\n",
              "      box-shadow: 0px 1px 3px 1px rgba(0, 0, 0, 0.15);\n",
              "      filter: drop-shadow(0px 1px 2px rgba(0, 0, 0, 0.3));\n",
              "      fill: #FFFFFF;\n",
              "    }\n",
              "  </style>\n",
              "\n",
              "      <script>\n",
              "        const buttonEl =\n",
              "          document.querySelector('#df-fefc43ab-8f05-44f6-a0bd-8fcfd2ea10a0 button.colab-df-convert');\n",
              "        buttonEl.style.display =\n",
              "          google.colab.kernel.accessAllowed ? 'block' : 'none';\n",
              "\n",
              "        async function convertToInteractive(key) {\n",
              "          const element = document.querySelector('#df-fefc43ab-8f05-44f6-a0bd-8fcfd2ea10a0');\n",
              "          const dataTable =\n",
              "            await google.colab.kernel.invokeFunction('convertToInteractive',\n",
              "                                                     [key], {});\n",
              "          if (!dataTable) return;\n",
              "\n",
              "          const docLinkHtml = 'Like what you see? Visit the ' +\n",
              "            '<a target=\"_blank\" href=https://colab.research.google.com/notebooks/data_table.ipynb>data table notebook</a>'\n",
              "            + ' to learn more about interactive tables.';\n",
              "          element.innerHTML = '';\n",
              "          dataTable['output_type'] = 'display_data';\n",
              "          await google.colab.output.renderOutput(dataTable, element);\n",
              "          const docLink = document.createElement('div');\n",
              "          docLink.innerHTML = docLinkHtml;\n",
              "          element.appendChild(docLink);\n",
              "        }\n",
              "      </script>\n",
              "    </div>\n",
              "  </div>\n",
              "  "
            ],
            "text/plain": [
              "              mpg   cylinders  ...  acceleration  model_year\n",
              "count  392.000000  392.000000  ...    392.000000  392.000000\n",
              "mean    23.445918    5.471939  ...     15.541327   75.979592\n",
              "std      7.805007    1.705783  ...      2.758864    3.683737\n",
              "min      9.000000    3.000000  ...      8.000000   70.000000\n",
              "25%     17.000000    4.000000  ...     13.775000   73.000000\n",
              "50%     22.750000    4.000000  ...     15.500000   76.000000\n",
              "75%     29.000000    8.000000  ...     17.025000   79.000000\n",
              "max     46.600000    8.000000  ...     24.800000   82.000000\n",
              "\n",
              "[8 rows x 7 columns]"
            ]
          },
          "metadata": {},
          "execution_count": 6
        }
      ]
    },
    {
      "cell_type": "markdown",
      "source": [
        "## 데이터셋 나누기"
      ],
      "metadata": {
        "id": "lRUUGC81Nl-R"
      }
    },
    {
      "cell_type": "code",
      "source": [
        "# 전체 데이터프레임에서 df, train, test를 분리\n",
        "# 학습 후 실제 예측을 해보는 과정을 거침.\n",
        "# train_dataset : 학습에 사용() - Modeling(Training Data)\n",
        "# test_dataset : 실제 예측에 사용 - Prediction\n",
        "train_dataset = df.sample(frac=0.8, random_state=42)\n",
        "train_dataset.shape"
      ],
      "metadata": {
        "colab": {
          "base_uri": "https://localhost:8080/"
        },
        "id": "oZlbyYnKNDfE",
        "outputId": "573a96fd-6731-4a5e-e0fb-9b490f246c3d"
      },
      "execution_count": 7,
      "outputs": [
        {
          "output_type": "execute_result",
          "data": {
            "text/plain": [
              "(314, 7)"
            ]
          },
          "metadata": {},
          "execution_count": 7
        }
      ]
    },
    {
      "cell_type": "code",
      "source": [
        "# train_dataset과 test_dataset이 겹치면 안 되므로 train_dataset의 index의 값들을 제거함\n",
        "test_dataset = df.drop(train_dataset.index)\n",
        "test_dataset.shape"
      ],
      "metadata": {
        "colab": {
          "base_uri": "https://localhost:8080/"
        },
        "id": "UDdN-cF3PEWM",
        "outputId": "5bfb25f9-046a-4de4-ae5f-0fcaa2fb94e4"
      },
      "execution_count": 8,
      "outputs": [
        {
          "output_type": "execute_result",
          "data": {
            "text/plain": [
              "(78, 7)"
            ]
          },
          "metadata": {},
          "execution_count": 8
        }
      ]
    },
    {
      "cell_type": "code",
      "source": [
        "# train_dataset, test_dataset에서 label(정답) 값을 꺼내 label로 따로 생성\n",
        "# 문제에서 정답을 분리하는 과정 \n",
        "# train_labels : train_dataset에서 정답을 꺼내 분리 - Modeling(Training Labels)\n",
        "# test_labels : test_dataset에서 정답을 꺼내 분리 - Evaluation \n",
        "train_labels = train_dataset.pop(\"mpg\")\n",
        "train_labels.shape"
      ],
      "metadata": {
        "colab": {
          "base_uri": "https://localhost:8080/"
        },
        "id": "D_mIpwwBOJE9",
        "outputId": "f0d51c42-c344-4024-f522-878e197adf6c"
      },
      "execution_count": 9,
      "outputs": [
        {
          "output_type": "execute_result",
          "data": {
            "text/plain": [
              "(314,)"
            ]
          },
          "metadata": {},
          "execution_count": 9
        }
      ]
    },
    {
      "cell_type": "code",
      "source": [
        "test_labels = test_dataset.pop(\"mpg\")\n",
        "test_labels.shape"
      ],
      "metadata": {
        "colab": {
          "base_uri": "https://localhost:8080/"
        },
        "id": "RkHE-C1oQAR_",
        "outputId": "e73b7b0a-6b51-41fe-dd42-12a485bf0b75"
      },
      "execution_count": 10,
      "outputs": [
        {
          "output_type": "execute_result",
          "data": {
            "text/plain": [
              "(78,)"
            ]
          },
          "metadata": {},
          "execution_count": 10
        }
      ]
    },
    {
      "cell_type": "code",
      "source": [
        "train_dataset.shape, test_dataset.shape"
      ],
      "metadata": {
        "colab": {
          "base_uri": "https://localhost:8080/"
        },
        "id": "ofnKXWSOQovh",
        "outputId": "86ee2b12-8a2d-4bfb-b105-2654cf748821"
      },
      "execution_count": 11,
      "outputs": [
        {
          "output_type": "execute_result",
          "data": {
            "text/plain": [
              "((314, 6), (78, 6))"
            ]
          },
          "metadata": {},
          "execution_count": 11
        }
      ]
    },
    {
      "cell_type": "markdown",
      "source": [
        "## 딥러닝 모델 만들기"
      ],
      "metadata": {
        "id": "IJ5k__hEZ1IC"
      }
    },
    {
      "cell_type": "code",
      "source": [
        "import tensorflow as tf\n",
        "tf.__version__"
      ],
      "metadata": {
        "id": "eazvRbj0RaiW",
        "colab": {
          "base_uri": "https://localhost:8080/",
          "height": 35
        },
        "outputId": "8363202e-ba31-45cc-c84a-ffefcf9d9e89"
      },
      "execution_count": 12,
      "outputs": [
        {
          "output_type": "execute_result",
          "data": {
            "application/vnd.google.colaboratory.intrinsic+json": {
              "type": "string"
            },
            "text/plain": [
              "'2.7.0'"
            ]
          },
          "metadata": {},
          "execution_count": 12
        }
      ]
    },
    {
      "cell_type": "markdown",
      "source": [
        "## 딥러닝 층(layer) 구성"
      ],
      "metadata": {
        "id": "l_nzHL9CcKXp"
      }
    },
    {
      "cell_type": "code",
      "source": [
        "model = tf.keras.Sequential()\n",
        "\n",
        "# input layer(입력층)\n",
        "# Optionally, the first layer can receive an `input_shape` argument:\n",
        "model.add(tf.keras.layers.Dense(64, input_shape=[len(train_dataset.keys())]))\n",
        "\n",
        "# hidden layer(은닉층)\n",
        "model.add(tf.keras.layers.Dense(64))\n",
        "model.add(tf.keras.layers.Dense(64))\n",
        "\n",
        "# output layer(출력층)\n",
        "# Afterwards, we do automatic shape inference:\n",
        "model.add(tf.keras.layers.Dense(1))"
      ],
      "metadata": {
        "id": "7Os_Jrskb-aM"
      },
      "execution_count": 13,
      "outputs": []
    },
    {
      "cell_type": "markdown",
      "source": [
        "## 모델 컴파일"
      ],
      "metadata": {
        "id": "vEXRdONndwwS"
      }
    },
    {
      "cell_type": "code",
      "source": [
        "# loss(손실함수) : 값을 예측하려할 때 데이터에 대한 예측값과 실제의 값을 비교하는 함수(Training시 사용할 함수 지정)\n",
        "# metrics : 모델의 정확도를 측정하는 방법 지정 (평가(Evaluation)시 사용할 함수 지정)(회귀모델 : mae, mse, rnse를 주로 사용)\n",
        "model.compile(loss=\"mse\", metrics=[\"mae\", \"mse\"])"
      ],
      "metadata": {
        "id": "4WowAyfkd8-o"
      },
      "execution_count": 14,
      "outputs": []
    },
    {
      "cell_type": "markdown",
      "source": [
        "## 만든 모델 확인하기"
      ],
      "metadata": {
        "id": "8H42JzK_hMlw"
      }
    },
    {
      "cell_type": "code",
      "source": [
        "model.summary()"
      ],
      "metadata": {
        "colab": {
          "base_uri": "https://localhost:8080/"
        },
        "id": "nt_n4LRTd823",
        "outputId": "16a4b135-5685-43f6-c332-1ed61e085a53"
      },
      "execution_count": 15,
      "outputs": [
        {
          "output_type": "stream",
          "name": "stdout",
          "text": [
            "Model: \"sequential\"\n",
            "_________________________________________________________________\n",
            " Layer (type)                Output Shape              Param #   \n",
            "=================================================================\n",
            " dense (Dense)               (None, 64)                448       \n",
            "                                                                 \n",
            " dense_1 (Dense)             (None, 64)                4160      \n",
            "                                                                 \n",
            " dense_2 (Dense)             (None, 64)                4160      \n",
            "                                                                 \n",
            " dense_3 (Dense)             (None, 1)                 65        \n",
            "                                                                 \n",
            "=================================================================\n",
            "Total params: 8,833\n",
            "Trainable params: 8,833\n",
            "Non-trainable params: 0\n",
            "_________________________________________________________________\n"
          ]
        }
      ]
    },
    {
      "cell_type": "markdown",
      "source": [
        "## 딥러닝 모델로 학습하기"
      ],
      "metadata": {
        "id": "L3gIArH7hWai"
      }
    },
    {
      "cell_type": "code",
      "source": [
        "# epochs : 몇 번을 반복하여 학습할 것인지 지정\n",
        "# verbose : 로그를 어떻게 얼마나 찍을 것인지 지정\n",
        "model.fit(train_dataset, train_labels, epochs=10, verbose=1)"
      ],
      "metadata": {
        "colab": {
          "base_uri": "https://localhost:8080/"
        },
        "id": "lTjWzSJihLws",
        "outputId": "19bf3ec9-24aa-46a7-d734-e3f9e9794ef8"
      },
      "execution_count": 16,
      "outputs": [
        {
          "output_type": "stream",
          "name": "stdout",
          "text": [
            "Epoch 1/10\n",
            "10/10 [==============================] - 1s 3ms/step - loss: 252889.9375 - mae: 171.6240 - mse: 252889.9375\n",
            "Epoch 2/10\n",
            "10/10 [==============================] - 0s 3ms/step - loss: 84.4909 - mae: 7.3443 - mse: 84.4909\n",
            "Epoch 3/10\n",
            "10/10 [==============================] - 0s 3ms/step - loss: 57935.8398 - mae: 195.7542 - mse: 57935.8398\n",
            "Epoch 4/10\n",
            "10/10 [==============================] - 0s 2ms/step - loss: 20651.4609 - mae: 124.7938 - mse: 20651.4629\n",
            "Epoch 5/10\n",
            "10/10 [==============================] - 0s 3ms/step - loss: 41233.6172 - mae: 159.5667 - mse: 41233.6172\n",
            "Epoch 6/10\n",
            "10/10 [==============================] - 0s 3ms/step - loss: 41499.8945 - mae: 177.7431 - mse: 41499.8945\n",
            "Epoch 7/10\n",
            "10/10 [==============================] - 0s 3ms/step - loss: 6806.4077 - mae: 75.8200 - mse: 6806.4077\n",
            "Epoch 8/10\n",
            "10/10 [==============================] - 0s 3ms/step - loss: 29729.7207 - mae: 152.8880 - mse: 29729.7207\n",
            "Epoch 9/10\n",
            "10/10 [==============================] - 0s 3ms/step - loss: 20300.6602 - mae: 129.1869 - mse: 20300.6602\n",
            "Epoch 10/10\n",
            "10/10 [==============================] - 0s 2ms/step - loss: 15727.3252 - mae: 116.2749 - mse: 15727.3252\n"
          ]
        },
        {
          "output_type": "execute_result",
          "data": {
            "text/plain": [
              "<keras.callbacks.History at 0x7fa54f9b0310>"
            ]
          },
          "metadata": {},
          "execution_count": 16
        }
      ]
    },
    {
      "cell_type": "markdown",
      "source": [
        "## 딥러닝 모델로 평가하기"
      ],
      "metadata": {
        "id": "DM2XmhahmaQB"
      }
    },
    {
      "cell_type": "code",
      "source": [
        "model.evaluate(test_dataset, test_labels)"
      ],
      "metadata": {
        "colab": {
          "base_uri": "https://localhost:8080/"
        },
        "id": "EvbmZuYplvXO",
        "outputId": "48488f39-38bf-46cf-c536-de107271d633"
      },
      "execution_count": 17,
      "outputs": [
        {
          "output_type": "stream",
          "name": "stdout",
          "text": [
            "3/3 [==============================] - 0s 5ms/step - loss: 3788.3306 - mae: 56.7924 - mse: 3788.3306\n"
          ]
        },
        {
          "output_type": "execute_result",
          "data": {
            "text/plain": [
              "[3788.33056640625, 56.79239273071289, 3788.33056640625]"
            ]
          },
          "metadata": {},
          "execution_count": 17
        }
      ]
    },
    {
      "cell_type": "markdown",
      "source": [
        "## 딥러닝 모델로 예측하기"
      ],
      "metadata": {
        "id": "2GyR78ywnQjJ"
      }
    },
    {
      "cell_type": "code",
      "source": [
        "predict_labels = model.predict(test_dataset).flatten()\n",
        "predict_labels[:5]"
      ],
      "metadata": {
        "colab": {
          "base_uri": "https://localhost:8080/"
        },
        "id": "vfwohyKFmlOn",
        "outputId": "00d610a0-3519-4ead-9834-d88fbe885883"
      },
      "execution_count": 18,
      "outputs": [
        {
          "output_type": "execute_result",
          "data": {
            "text/plain": [
              "array([87.96409 , 54.919228, 82.87992 , 73.68674 , 90.0288  ],\n",
              "      dtype=float32)"
            ]
          },
          "metadata": {},
          "execution_count": 18
        }
      ]
    },
    {
      "cell_type": "markdown",
      "source": [
        "## 딥러닝 모델의 예측결과 평가하기"
      ],
      "metadata": {
        "id": "VVnECLpZpU22"
      }
    },
    {
      "cell_type": "code",
      "source": [
        "sns.scatterplot(x=test_labels, y=predict_labels)"
      ],
      "metadata": {
        "colab": {
          "base_uri": "https://localhost:8080/",
          "height": 297
        },
        "id": "LvhCdd_gnWun",
        "outputId": "a3f2acd8-a954-401b-e3d3-5d8c09c345eb"
      },
      "execution_count": 19,
      "outputs": [
        {
          "output_type": "execute_result",
          "data": {
            "text/plain": [
              "<matplotlib.axes._subplots.AxesSubplot at 0x7fa56b658a10>"
            ]
          },
          "metadata": {},
          "execution_count": 19
        },
        {
          "output_type": "display_data",
          "data": {
            "image/png": "[encoded data removed]",
            "text/plain": [
              "<Figure size 432x288 with 1 Axes>"
            ]
          },
          "metadata": {
            "needs_background": "light"
          }
        }
      ]
    },
    {
      "cell_type": "code",
      "source": [
        "sns.jointplot(x=test_labels, y=predict_labels, kind=\"reg\")"
      ],
      "metadata": {
        "id": "gmVRPfikqgt4",
        "colab": {
          "base_uri": "https://localhost:8080/",
          "height": 459
        },
        "outputId": "c64bf67b-1b1d-45f2-d6c4-67970cc7208f"
      },
      "execution_count": 20,
      "outputs": [
        {
          "output_type": "execute_result",
          "data": {
            "text/plain": [
              "<seaborn.axisgrid.JointGrid at 0x7fa54f8b3b10>"
            ]
          },
          "metadata": {},
          "execution_count": 20
        },
        {
          "output_type": "display_data",
          "data": {
            "image/png": "[encoded data removed]",
            "text/plain": [
              "<Figure size 432x432 with 3 Axes>"
            ]
          },
          "metadata": {
            "needs_background": "light"
          }
        }
      ]
    },
    {
      "cell_type": "code",
      "source": [
        ""
      ],
      "metadata": {
        "id": "LygglTbcAKUt"
      },
      "execution_count": null,
      "outputs": []
    }
  ]
}